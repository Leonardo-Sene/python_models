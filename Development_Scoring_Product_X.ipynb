{
 "cells": [
  {
   "cell_type": "markdown",
   "metadata": {},
   "source": [
    "## Classifying texts with machine learning"
   ]
  },
  {
   "cell_type": "markdown",
   "metadata": {},
   "source": [
    "In this notebook you can use the SVM (Support Vector Machine) algorithm, through the SGDClassifier estimator, already tested in the original database.\n",
    "\n",
    "With this notebook it is possible to use the algorithm with the best performance to fit the nature of the data and obtain the ratings of the Dislike and Complain type evaluations for a new data set."
   ]
  },
  {
   "cell_type": "markdown",
   "metadata": {},
   "source": [
    "## Loading used libraries"
   ]
  },
  {
   "cell_type": "code",
   "execution_count": 1,
   "metadata": {},
   "outputs": [],
   "source": [
    "#Bibliotecas para Pré-Processamento\n",
    "import pandas as pd\n",
    "pd.set_option('max_colwidth', 300)\n",
    "import numpy as np\n",
    "#!pip install texthero\n",
    "#import texthero as hero\n",
    "from sklearn.feature_extraction.text import TfidfVectorizer\n",
    "from sklearn.model_selection import train_test_split\n",
    "\n",
    "#Bibliotecas para Modelagem\n",
    "# um classificador linear que utiliza o Gradiente Descendente Estocástico como método de treino. #Por padrão, utiliza o estimador SVM.\n",
    "from sklearn.linear_model import SGDClassifier\n",
    "from sklearn import metrics\n",
    "from sklearn.metrics import confusion_matrix\n",
    "import matplotlib.pyplot as plt\n",
    "%matplotlib inline"
   ]
  },
  {
   "cell_type": "markdown",
   "metadata": {},
   "source": [
    "# Database reading"
   ]
  },
  {
   "cell_type": "code",
   "execution_count": 2,
   "metadata": {},
   "outputs": [],
   "source": [
    "df = pd.read_csv('Base.csv', sep= ';', encoding=\"latin-1\")\n"
   ]
  },
  {
   "cell_type": "code",
   "execution_count": 3,
   "metadata": {},
   "outputs": [],
   "source": [
    "#Seleção das avaliações acima de 4 caracteres\n",
    "df1 = df[df['Verb Native'].map(len) > 4]"
   ]
  },
  {
   "cell_type": "markdown",
   "metadata": {},
   "source": [
    "## Separating the columns"
   ]
  },
  {
   "cell_type": "code",
   "execution_count": 4,
   "metadata": {},
   "outputs": [],
   "source": [
    "#Separando a coluna preditora do target\n",
    "X = df1['Verb Native']\n",
    "y = df1['TIPO']"
   ]
  },
  {
   "cell_type": "markdown",
   "metadata": {},
   "source": [
    "## Word Treatment and Vectorization"
   ]
  },
  {
   "cell_type": "markdown",
   "metadata": {},
   "source": [
    "At this stage, it is necessary to normalize the written words, as well as to check the writing, by removing accents and punctuation."
   ]
  },
  {
   "cell_type": "code",
   "execution_count": 5,
   "metadata": {},
   "outputs": [],
   "source": [
    "# Limpeza = letras minusculas, exclusao de apostrofos, aspas e coisas do tipo\n",
    "#X = hero.clean(X)"
   ]
  },
  {
   "cell_type": "code",
   "execution_count": 6,
   "metadata": {},
   "outputs": [],
   "source": [
    "# Separação entre bases de treinamento e teste\n",
    "Xtrain, Xtest, ytrain, ytest = train_test_split(X, y, test_size = 0.3, random_state=100, shuffle=True)"
   ]
  },
  {
   "cell_type": "code",
   "execution_count": 7,
   "metadata": {},
   "outputs": [],
   "source": [
    "#Processo de vetorização das palavras\n",
    "vectorizer = TfidfVectorizer()\n",
    "X_train_tfidf_vectorize = vectorizer.fit_transform(Xtrain)"
   ]
  },
  {
   "cell_type": "markdown",
   "metadata": {},
   "source": [
    "## Training the classifier"
   ]
  },
  {
   "cell_type": "code",
   "execution_count": 8,
   "metadata": {},
   "outputs": [
    {
     "data": {
      "text/plain": [
       "SGDClassifier(max_iter=4, random_state=42, tol=None)"
      ]
     },
     "execution_count": 8,
     "metadata": {},
     "output_type": "execute_result"
    }
   ],
   "source": [
    "#Instanciando o classificador\n",
    "clf = SGDClassifier(loss='hinge', penalty='l2', alpha=1e-4, random_state=42, max_iter=4, tol=None)\n",
    "#Fitando o classificador\n",
    "clf.fit(X_train_tfidf_vectorize, ytrain) "
   ]
  },
  {
   "cell_type": "code",
   "execution_count": 9,
   "metadata": {},
   "outputs": [],
   "source": [
    "#Vetorizando a base teste\n",
    "X_test_tfidf_vectorize = vectorizer.transform(Xtest)"
   ]
  },
  {
   "cell_type": "code",
   "execution_count": 10,
   "metadata": {},
   "outputs": [],
   "source": [
    "#Predizendo a base teste\n",
    "predicted = clf.predict(X_test_tfidf_vectorize)"
   ]
  },
  {
   "cell_type": "code",
   "execution_count": 11,
   "metadata": {},
   "outputs": [
    {
     "name": "stdout",
     "output_type": "stream",
     "text": [
      "              precision    recall  f1-score   support\n",
      "\n",
      "    Complain       0.89      0.95      0.91      1977\n",
      "     Dislike       0.84      0.69      0.76       791\n",
      "\n",
      "    accuracy                           0.87      2768\n",
      "   macro avg       0.86      0.82      0.84      2768\n",
      "weighted avg       0.87      0.87      0.87      2768\n",
      "\n"
     ]
    }
   ],
   "source": [
    "#Verificando a performance do modelo\n",
    "print(metrics.classification_report(ytest.values, predicted))"
   ]
  },
  {
   "cell_type": "code",
   "execution_count": 12,
   "metadata": {},
   "outputs": [],
   "source": [
    "predicted = pd.DataFrame(predicted)\n",
    "predicted = predicted.reset_index(drop=True)\n",
    "ytest = pd.DataFrame(ytest)\n",
    "ytest = ytest.reset_index(drop=True)\n",
    "Xtest = pd.DataFrame(Xtest)\n",
    "Xtest = Xtest.reset_index(drop=True)\n",
    "predicted = predicted.rename({0: 'Predito'}, axis = 1)"
   ]
  },
  {
   "cell_type": "code",
   "execution_count": 52,
   "metadata": {},
   "outputs": [],
   "source": [
    "Base_Teste_Ajustada = Xtest.merge(ytest, right_index=True, left_index=True, how = \"outer\")"
   ]
  },
  {
   "cell_type": "code",
   "execution_count": 53,
   "metadata": {},
   "outputs": [],
   "source": [
    "#Cruzamento da base textual com as estimativas de classificação textual\n",
    "Base_Teste_Ajustada1 = Base_Teste_Ajustada.merge(predicted, right_index=True, left_index=True, how = \"outer\")"
   ]
  },
  {
   "cell_type": "code",
   "execution_count": 54,
   "metadata": {},
   "outputs": [],
   "source": [
    "#Base Teste Classificada Exportada\n",
    "Base_Teste_Ajustada1.to_excel(\"Base_Teste_Ajustada.xlsx\", index=False)"
   ]
  },
  {
   "cell_type": "markdown",
   "metadata": {},
   "source": [
    "## Reading from a new database"
   ]
  },
  {
   "cell_type": "code",
   "execution_count": 35,
   "metadata": {},
   "outputs": [],
   "source": [
    "df = pd.read_csv('Base5.csv', sep= ';', encoding=\"latin-1\")"
   ]
  },
  {
   "cell_type": "code",
   "execution_count": 36,
   "metadata": {},
   "outputs": [
    {
     "data": {
      "text/plain": [
       "(7878, 34)"
      ]
     },
     "execution_count": 36,
     "metadata": {},
     "output_type": "execute_result"
    }
   ],
   "source": [
    "df.dropna(subset=['Verb Native'], inplace=True)\n",
    "df.shape"
   ]
  },
  {
   "cell_type": "code",
   "execution_count": 38,
   "metadata": {},
   "outputs": [
    {
     "data": {
      "text/plain": [
       "(7849, 34)"
      ]
     },
     "execution_count": 38,
     "metadata": {},
     "output_type": "execute_result"
    }
   ],
   "source": [
    "#Seleção das avaliações acima de 4 caracteres\n",
    "df1 = df[df['Verb Native'].map(len) > 4]\n",
    "df1 = df1.reset_index(drop=True)\n",
    "df1.shape"
   ]
  },
  {
   "cell_type": "code",
   "execution_count": 39,
   "metadata": {},
   "outputs": [],
   "source": [
    "#Definição da coluna a ser classificada\n",
    "X = df1['Verb Native']"
   ]
  },
  {
   "cell_type": "markdown",
   "metadata": {},
   "source": [
    "## Word Treatment and Vectorization"
   ]
  },
  {
   "cell_type": "code",
   "execution_count": 40,
   "metadata": {},
   "outputs": [],
   "source": [
    "# Limpeza = letras minusculas, exclusao de apostrofos, aspas e demais pontuações\n",
    "#X_clean = hero.clean(X)"
   ]
  },
  {
   "cell_type": "code",
   "execution_count": 41,
   "metadata": {},
   "outputs": [],
   "source": [
    "#Vetorização das palavras\n",
    "Base_vectorize = vectorizer.transform(X)"
   ]
  },
  {
   "cell_type": "markdown",
   "metadata": {},
   "source": [
    "## Classifier Forecast"
   ]
  },
  {
   "cell_type": "code",
   "execution_count": 42,
   "metadata": {},
   "outputs": [],
   "source": [
    "#Estimativas obtidas pelo modelo de classificação textual \n",
    "predicted = clf.predict(Base_vectorize)"
   ]
  },
  {
   "cell_type": "markdown",
   "metadata": {},
   "source": [
    "## Exporting the New Sorted Base in xlsx Format"
   ]
  },
  {
   "cell_type": "code",
   "execution_count": 43,
   "metadata": {},
   "outputs": [],
   "source": [
    "predicted = pd.DataFrame(predicted)\n",
    "predicted = predicted.reset_index(drop=True)\n",
    "#Renomear a coluna predict que por defaut possui o nome de 0\n",
    "predicted = predicted.rename({0: 'Predito'}, axis = 1)"
   ]
  },
  {
   "cell_type": "code",
   "execution_count": 44,
   "metadata": {},
   "outputs": [],
   "source": [
    "#Re-indexação da base\n",
    "X = pd.DataFrame(X)\n",
    "X = X.reset_index(drop=True)"
   ]
  },
  {
   "cell_type": "code",
   "execution_count": 45,
   "metadata": {},
   "outputs": [],
   "source": [
    "#Cruzamento da base textual com as estimativas de classificação textual\n",
    "Base_Final = df1.merge(predicted, right_index=True, left_index=True, how = \"outer\")"
   ]
  },
  {
   "cell_type": "code",
   "execution_count": 46,
   "metadata": {},
   "outputs": [],
   "source": [
    "#Base Final Exportada\n",
    "Base_Final.to_excel(\"Nova_Base5.xlsx\", index=False)"
   ]
  }
 ],
 "metadata": {
  "kernelspec": {
   "display_name": "Python 3 (ipykernel)",
   "language": "python",
   "name": "python3"
  },
  "language_info": {
   "codemirror_mode": {
    "name": "ipython",
    "version": 3
   },
   "file_extension": ".py",
   "mimetype": "text/x-python",
   "name": "python",
   "nbconvert_exporter": "python",
   "pygments_lexer": "ipython3",
   "version": "3.8.11"
  }
 },
 "nbformat": 4,
 "nbformat_minor": 2
}
