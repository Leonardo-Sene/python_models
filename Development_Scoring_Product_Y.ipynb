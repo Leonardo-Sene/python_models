{
 "cells": [
  {
   "cell_type": "markdown",
   "metadata": {},
   "source": [
    "## Classifying texts with machine learning"
   ]
  },
  {
   "cell_type": "markdown",
   "metadata": {},
   "source": [
    "In this notebook you can use the SVM (Support Vector Machine) algorithm, through the SGDClassifier estimator, already tested in the original database.\n",
    "\n",
    "With this notebook it is possible to use the algorithm with the best performance to fit the nature of the data and obtain the ratings of the Dislike and Complain type evaluations for a new data set."
   ]
  },
  {
   "cell_type": "markdown",
   "metadata": {},
   "source": [
    "## Loading used libraries"
   ]
  },
  {
   "cell_type": "code",
   "execution_count": 37,
   "metadata": {},
   "outputs": [],
   "source": [
    "#Bibliotecas para Pré-Processamento\n",
    "import pandas as pd\n",
    "pd.set_option('max_colwidth', 300)\n",
    "import numpy as np\n",
    "#!pip install texthero\n",
    "#import texthero as hero\n",
    "from sklearn.feature_extraction.text import TfidfVectorizer\n",
    "from sklearn.model_selection import train_test_split\n",
    "\n",
    "#Bibliotecas para Modelagem\n",
    "# um classificador linear que utiliza o Gradiente Descendente Estocástico como método de treino. #Por padrão, utiliza o estimador SVM.\n",
    "from sklearn.linear_model import SGDClassifier\n",
    "from sklearn import metrics\n",
    "from sklearn.metrics import confusion_matrix\n",
    "import matplotlib.pyplot as plt\n",
    "%matplotlib inline"
   ]
  },
  {
   "cell_type": "markdown",
   "metadata": {},
   "source": [
    "# Database reading"
   ]
  },
  {
   "cell_type": "code",
   "execution_count": 188,
   "metadata": {},
   "outputs": [
    {
     "data": {
      "text/plain": [
       "(17177, 34)"
      ]
     },
     "execution_count": 188,
     "metadata": {},
     "output_type": "execute_result"
    }
   ],
   "source": [
    "df = pd.read_csv('Base.csv', sep= ';', encoding=\"latin-1\")\n",
    "#df.shape"
   ]
  },
  {
   "cell_type": "code",
   "execution_count": 189,
   "metadata": {},
   "outputs": [],
   "source": [
    "df.dropna(subset=['Verb Native'], inplace=True)\n",
    "#df.shape"
   ]
  },
  {
   "cell_type": "code",
   "execution_count": 108,
   "metadata": {},
   "outputs": [
    {
     "data": {
      "text/plain": [
       "(7814, 34)"
      ]
     },
     "execution_count": 108,
     "metadata": {},
     "output_type": "execute_result"
    }
   ],
   "source": [
    "df1=df.loc[df['SubClassification']!='#N/D']\n",
    "#df1.shape"
   ]
  },
  {
   "cell_type": "code",
   "execution_count": 109,
   "metadata": {},
   "outputs": [
    {
     "data": {
      "text/plain": [
       "(7785, 34)"
      ]
     },
     "execution_count": 109,
     "metadata": {},
     "output_type": "execute_result"
    }
   ],
   "source": [
    "#Seleção das avaliações acima de 4 caracteres\n",
    "df1 = df1[df1['Verb Native'].map(len) > 4]\n",
    "#df1.shape"
   ]
  },
  {
   "cell_type": "markdown",
   "metadata": {},
   "source": [
    "## Separating the columns"
   ]
  },
  {
   "cell_type": "code",
   "execution_count": 110,
   "metadata": {},
   "outputs": [],
   "source": [
    "#Separando a coluna preditora do target\n",
    "X = df1['Verb Native']\n",
    "y = df1['SubClassification']"
   ]
  },
  {
   "cell_type": "markdown",
   "metadata": {},
   "source": [
    "## Word Treatment and Vectorization"
   ]
  },
  {
   "cell_type": "markdown",
   "metadata": {},
   "source": [
    "At this stage, it is necessary to normalize the written words, as well as to check the writing, by removing accents and punctuation."
   ]
  },
  {
   "cell_type": "code",
   "execution_count": 111,
   "metadata": {},
   "outputs": [],
   "source": [
    "# Limpeza = letras minusculas, exclusao de apostrofos, aspas e coisas do tipo\n",
    "#X = hero.clean(X)"
   ]
  },
  {
   "cell_type": "code",
   "execution_count": 112,
   "metadata": {},
   "outputs": [],
   "source": [
    "# Separação entre bases de treinamento e teste\n",
    "Xtrain, Xtest, ytrain, ytest = train_test_split(X, y, test_size = 0.3, random_state=100, shuffle=True)"
   ]
  },
  {
   "cell_type": "code",
   "execution_count": 113,
   "metadata": {},
   "outputs": [],
   "source": [
    "#Processo de vetorização das palavras\n",
    "vectorizer = TfidfVectorizer()\n",
    "X_train_tfidf_vectorize = vectorizer.fit_transform(Xtrain)"
   ]
  },
  {
   "cell_type": "markdown",
   "metadata": {},
   "source": [
    "## Training the classifier"
   ]
  },
  {
   "cell_type": "code",
   "execution_count": 174,
   "metadata": {},
   "outputs": [
    {
     "data": {
      "text/plain": [
       "SGDClassifier()"
      ]
     },
     "execution_count": 174,
     "metadata": {},
     "output_type": "execute_result"
    }
   ],
   "source": [
    "clf = SGDClassifier()\n",
    "#Fitando o classificador\n",
    "clf.fit(X_train_tfidf_vectorize, ytrain) "
   ]
  },
  {
   "cell_type": "code",
   "execution_count": 175,
   "metadata": {},
   "outputs": [],
   "source": [
    "#Vetorizando a base teste\n",
    "X_test_tfidf_vectorize = vectorizer.transform(Xtest)"
   ]
  },
  {
   "cell_type": "code",
   "execution_count": 176,
   "metadata": {},
   "outputs": [],
   "source": [
    "#Predizendo a base teste\n",
    "predicted = clf.predict(X_test_tfidf_vectorize)"
   ]
  },
  {
   "cell_type": "code",
   "execution_count": 201,
   "metadata": {},
   "outputs": [],
   "source": [
    "#Verificando a performance do modelo\n",
    "#print(metrics.classification_report(ytest.values, predicted))"
   ]
  },
  {
   "cell_type": "code",
   "execution_count": 179,
   "metadata": {},
   "outputs": [],
   "source": [
    "#confusion_matrix = confusion_matrix(ytest, predicted)\n",
    "#print(confusion_matrix)"
   ]
  },
  {
   "cell_type": "code",
   "execution_count": 180,
   "metadata": {},
   "outputs": [],
   "source": [
    "predicted = pd.DataFrame(predicted)\n",
    "predicted = predicted.reset_index(drop=True)\n",
    "ytest = pd.DataFrame(ytest)\n",
    "ytest = ytest.reset_index(drop=True)\n",
    "Xtest = pd.DataFrame(Xtest)\n",
    "Xtest = Xtest.reset_index(drop=True)\n",
    "predicted = predicted.rename({0: 'Predito'}, axis = 1)"
   ]
  },
  {
   "cell_type": "code",
   "execution_count": 181,
   "metadata": {},
   "outputs": [],
   "source": [
    "Base_Teste_Ajustada = Xtest.merge(ytest, right_index=True, left_index=True, how = \"outer\")"
   ]
  },
  {
   "cell_type": "code",
   "execution_count": 182,
   "metadata": {},
   "outputs": [],
   "source": [
    "#Cruzamento da base textual com as estimativas de classificação textual\n",
    "Base_Teste_Ajustada1 = Base_Teste_Ajustada.merge(predicted, right_index=True, left_index=True, how = \"outer\")"
   ]
  },
  {
   "cell_type": "code",
   "execution_count": 183,
   "metadata": {},
   "outputs": [],
   "source": [
    "#Base Teste Classificada Exportada\n",
    "Base_Teste_Ajustada1.to_excel(\"Base_Teste_Ajustada.xlsx\", index=False)"
   ]
  },
  {
   "cell_type": "markdown",
   "metadata": {},
   "source": [
    "## Reading from a new database"
   ]
  },
  {
   "cell_type": "code",
   "execution_count": 191,
   "metadata": {},
   "outputs": [
    {
     "data": {
      "text/plain": [
       "(8165, 33)"
      ]
     },
     "execution_count": 191,
     "metadata": {},
     "output_type": "execute_result"
    }
   ],
   "source": [
    "df = pd.read_csv('Base_Nova.csv', sep= ';', encoding=\"latin-1\")\n",
    "#df.shape"
   ]
  },
  {
   "cell_type": "code",
   "execution_count": 192,
   "metadata": {},
   "outputs": [
    {
     "data": {
      "text/plain": [
       "(3749, 33)"
      ]
     },
     "execution_count": 192,
     "metadata": {},
     "output_type": "execute_result"
    }
   ],
   "source": [
    "df.dropna(subset=['Verb Native'], inplace=True)\n",
    "#df.shape"
   ]
  },
  {
   "cell_type": "code",
   "execution_count": 193,
   "metadata": {},
   "outputs": [
    {
     "data": {
      "text/plain": [
       "(3740, 33)"
      ]
     },
     "execution_count": 193,
     "metadata": {},
     "output_type": "execute_result"
    }
   ],
   "source": [
    "#Seleção das avaliações acima de 4 caracteres\n",
    "df1 = df[df['Verb Native'].map(len) > 4]\n",
    "df1 = df1.reset_index(drop=True)\n",
    "#df1.shape"
   ]
  },
  {
   "cell_type": "code",
   "execution_count": 194,
   "metadata": {},
   "outputs": [],
   "source": [
    "#Definição da coluna a ser classificada\n",
    "X = df1['Verb Native']"
   ]
  },
  {
   "cell_type": "markdown",
   "metadata": {},
   "source": [
    "## Word Treatment and Vectorization"
   ]
  },
  {
   "cell_type": "code",
   "execution_count": 40,
   "metadata": {},
   "outputs": [],
   "source": [
    "# Limpeza = letras minusculas, exclusao de apostrofos, aspas e demais pontuações\n",
    "#X_clean = hero.clean(X)"
   ]
  },
  {
   "cell_type": "code",
   "execution_count": 195,
   "metadata": {},
   "outputs": [],
   "source": [
    "#Vetorização das palavras\n",
    "Base_vectorize = vectorizer.transform(X)"
   ]
  },
  {
   "cell_type": "markdown",
   "metadata": {},
   "source": [
    "## Classifier Forecast"
   ]
  },
  {
   "cell_type": "code",
   "execution_count": 196,
   "metadata": {},
   "outputs": [],
   "source": [
    "#Estimativas obtidas pelo modelo de classificação textual \n",
    "predicted = clf.predict(Base_vectorize)"
   ]
  },
  {
   "cell_type": "markdown",
   "metadata": {},
   "source": [
    "## Exporting the New Sorted Base in xlsx Format"
   ]
  },
  {
   "cell_type": "code",
   "execution_count": 197,
   "metadata": {},
   "outputs": [],
   "source": [
    "predicted = pd.DataFrame(predicted)\n",
    "predicted = predicted.reset_index(drop=True)\n",
    "#Renomear a coluna predict que por defaut possui o nome de 0\n",
    "predicted = predicted.rename({0: 'Predito'}, axis = 1)"
   ]
  },
  {
   "cell_type": "code",
   "execution_count": 198,
   "metadata": {},
   "outputs": [],
   "source": [
    "#Re-indexação da base\n",
    "X = pd.DataFrame(X)\n",
    "X = X.reset_index(drop=True)"
   ]
  },
  {
   "cell_type": "code",
   "execution_count": 199,
   "metadata": {},
   "outputs": [],
   "source": [
    "#Cruzamento da base textual com as estimativas de classificação textual\n",
    "Base_Final = df1.merge(predicted, right_index=True, left_index=True, how = \"outer\")"
   ]
  },
  {
   "cell_type": "code",
   "execution_count": 200,
   "metadata": {},
   "outputs": [],
   "source": [
    "#Base Final Exportada\n",
    "Base_Final.to_excel(\"Base_Escorada.xlsx\", index=False)"
   ]
  }
 ],
 "metadata": {
  "kernelspec": {
   "display_name": "Python 3 (ipykernel)",
   "language": "python",
   "name": "python3"
  },
  "language_info": {
   "codemirror_mode": {
    "name": "ipython",
    "version": 3
   },
   "file_extension": ".py",
   "mimetype": "text/x-python",
   "name": "python",
   "nbconvert_exporter": "python",
   "pygments_lexer": "ipython3",
   "version": "3.8.11"
  }
 },
 "nbformat": 4,
 "nbformat_minor": 2
}
